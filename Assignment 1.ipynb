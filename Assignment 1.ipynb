{
 "cells": [
  {
   "cell_type": "markdown",
   "metadata": {},
   "source": [
    "#### 1) A company decided to give bonus of 5% to employee if his/her year of service is more than 5 years. Ask user for their salary and year ofservice and print the net bonus amount."
   ]
  },
  {
   "cell_type": "code",
   "execution_count": 3,
   "metadata": {},
   "outputs": [
    {
     "name": "stdout",
     "output_type": "stream",
     "text": [
      "Enter your Salary: 1234\n",
      "Enter your years of service: 6\n",
      "Original Salary: $1234\n",
      "Bonus (5%): $61.7\n",
      "New Salary: $1295.7\n"
     ]
    }
   ],
   "source": [
    "salary = int(input(\"Enter your Salary: \"))\n",
    "yearOfService = int(input(\"Enter your years of service: \"))\n",
    "\n",
    "if yearOfService > 5 :\n",
    "    bonus = salary * 0.05\n",
    "    \n",
    "    bonusSalary = salary + bonus\n",
    "    \n",
    "    print(f\"Original Salary: ${salary}\")\n",
    "    print(f\"Bonus (5%): ${bonus}\")\n",
    "    print(f\"New Salary: ${bonusSalary}\")\n",
    "else:\n",
    "    print(f\"Your Salary: ${salary}\")"
   ]
  },
  {
   "cell_type": "markdown",
   "metadata": {},
   "source": [
    "#### 2) Write a program to check whether a person is eligible for voting or not. (accept age from user) if age is greater than 17 eligible otherwise not eligible"
   ]
  },
  {
   "cell_type": "code",
   "execution_count": 5,
   "metadata": {},
   "outputs": [
    {
     "name": "stdout",
     "output_type": "stream",
     "text": [
      "enter your age: 18\n",
      "you are eliible for voting!\n"
     ]
    }
   ],
   "source": [
    "age = int(input(\"enter your age: \"))\n",
    "if age > 17 :\n",
    "    print(\"you are eliible for voting!\")\n",
    "else:\n",
    "    print(\"you are not eliible for voting :(\")"
   ]
  },
  {
   "cell_type": "markdown",
   "metadata": {},
   "source": [
    "#### 3) Write a program to check whether a number entered by user is even or odd."
   ]
  },
  {
   "cell_type": "code",
   "execution_count": 8,
   "metadata": {},
   "outputs": [
    {
     "name": "stdout",
     "output_type": "stream",
     "text": [
      "enter a number: 88\n",
      "number is even!\n"
     ]
    }
   ],
   "source": [
    "user_input = int(input(\"enter a number: \"))\n",
    "if (user_input%2)==0:\n",
    "    print(\"number is even!\")\n",
    "else:\n",
    "    print(\"number is odd!\")"
   ]
  },
  {
   "cell_type": "markdown",
   "metadata": {},
   "source": [
    "#### 4) Write a program to check whether a number is divisible by 7 or not. Show Answer"
   ]
  },
  {
   "cell_type": "code",
   "execution_count": 10,
   "metadata": {},
   "outputs": [
    {
     "name": "stdout",
     "output_type": "stream",
     "text": [
      "enter a number: 14\n",
      "number is divisible by 7!\n"
     ]
    }
   ],
   "source": [
    "user_input = int(input(\"enter a number: \"))\n",
    "if (user_input%7)==0:\n",
    "    print(\"number is divisible by 7!\")\n",
    "else:\n",
    "    print(\"number is not divisible by 7!\")"
   ]
  },
  {
   "cell_type": "markdown",
   "metadata": {},
   "source": [
    "#### 5) Write a program to display \"Hello\" if a number entered by user is a multiple of five , otherwise print \"Bye\"."
   ]
  },
  {
   "cell_type": "code",
   "execution_count": 13,
   "metadata": {},
   "outputs": [
    {
     "name": "stdout",
     "output_type": "stream",
     "text": [
      "enter a number: 555\n",
      "Hello!\n"
     ]
    }
   ],
   "source": [
    "user_input = int(input(\"enter a number: \"))\n",
    "if (user_input%5)==0:\n",
    "    print(\"Hello!\")\n",
    "else:\n",
    "    print(\"Bye!\")"
   ]
  },
  {
   "cell_type": "markdown",
   "metadata": {},
   "source": [
    "#### 7) Write a program to display the last digit of a number."
   ]
  },
  {
   "cell_type": "code",
   "execution_count": 20,
   "metadata": {},
   "outputs": [
    {
     "name": "stdout",
     "output_type": "stream",
     "text": [
      "enter a number: 1234\n",
      "the last digit of number is: 4\n"
     ]
    }
   ],
   "source": [
    "user_input = input(\"enter a number: \")\n",
    "for i in user_input:\n",
    "    num = int(i)\n",
    "print(\"the last digit of number is:\", num)"
   ]
  },
  {
   "cell_type": "markdown",
   "metadata": {},
   "source": [
    "#### Q8. Write a program to check whether the last digit of a number( entered by user ) is divisible by 3 or not."
   ]
  },
  {
   "cell_type": "code",
   "execution_count": 23,
   "metadata": {},
   "outputs": [
    {
     "name": "stdout",
     "output_type": "stream",
     "text": [
      "enter a number: 1234\n",
      "4 is not divisible by 3\n"
     ]
    }
   ],
   "source": [
    "user_input = input(\"enter a number: \")\n",
    "for i in user_input:\n",
    "    num = int(i)\n",
    "if (num % 3) == 0:\n",
    "    print(num,\"is divisible by 3\")\n",
    "else:\n",
    "    print(num,\"is not divisible by 3\")"
   ]
  },
  {
   "cell_type": "markdown",
   "metadata": {},
   "source": [
    "#### 9) Take values of length and breadth of a rectangle from user and print if it is square or rectangle."
   ]
  },
  {
   "cell_type": "code",
   "execution_count": 25,
   "metadata": {},
   "outputs": [
    {
     "name": "stdout",
     "output_type": "stream",
     "text": [
      "enter the length: 12\n",
      "enter the breadth: 22\n",
      "It is a rectangle!\n"
     ]
    }
   ],
   "source": [
    "length = int(input(\"enter the length: \"))\n",
    "breadth = int(input(\"enter the breadth: \"))\n",
    "\n",
    "if length == breadth:\n",
    "    print(\"It is a square!\")\n",
    "else:\n",
    "    print(\"It is a rectangle!\")"
   ]
  },
  {
   "cell_type": "markdown",
   "metadata": {},
   "source": [
    "#### 10) Take two int values from user and print greatest among them."
   ]
  },
  {
   "cell_type": "code",
   "execution_count": 27,
   "metadata": {},
   "outputs": [
    {
     "name": "stdout",
     "output_type": "stream",
     "text": [
      "enter first number: 2\n",
      "enter second number: 1\n",
      "first number is greater!\n"
     ]
    }
   ],
   "source": [
    "first_num = int(input(\"enter first number: \"))\n",
    "second_num = int(input(\"enter second number: \"))\n",
    "\n",
    "if first_num > second_num:\n",
    "    print(\"first number is greater!\")\n",
    "elif first_num < second_num:\n",
    "    print(\"second number is greater!\")"
   ]
  },
  {
   "cell_type": "markdown",
   "metadata": {},
   "source": [
    "#### 11) A shop will give discount of 10% if the cost of purchased quantity is more than 1000. Ask user for quantity Suppose, one unit will cost 100. Judge and print total cost for user."
   ]
  },
  {
   "cell_type": "code",
   "execution_count": 29,
   "metadata": {},
   "outputs": [
    {
     "name": "stdout",
     "output_type": "stream",
     "text": [
      "Enter the quantity of item: 12\n",
      "Total cost: 1200\n",
      "Dicount : 120.0\n",
      "Discounted cost: 1080.0\n"
     ]
    }
   ],
   "source": [
    "quantity = int(input(\"Enter the quantity of item: \"))\n",
    "if quantity>10:\n",
    "    cost = 100 * quantity\n",
    "    discount = cost * 0.1\n",
    "    discounted_cost = cost-discount\n",
    "    print(f\"Total cost: {cost}\\nDicount : {discount}\\nDiscounted cost: {discounted_cost}\")\n",
    "else:\n",
    "    cost = 100 * quantity\n",
    "    print(\"total cost: \",cost)"
   ]
  },
  {
   "cell_type": "markdown",
   "metadata": {},
   "source": [
    "#### 12) A school has following rules for grading system:\n",
    "#### a. Below 25 - F\n",
    "#### b. 25 to 45 - E\n",
    "#### c. 45 to 50 - D\n",
    "#### d. 50 to 60 - C\n",
    "#### e. 60 to 80 - B\n",
    "#### f. Above 80 - A\n",
    "#### Ask user to enter marks and print the corresponding grade."
   ]
  },
  {
   "cell_type": "code",
   "execution_count": 39,
   "metadata": {},
   "outputs": [
    {
     "name": "stdout",
     "output_type": "stream",
     "text": [
      "Enter marks: 100\n",
      "Grade: A\n"
     ]
    }
   ],
   "source": [
    "marks = int(input(\"Enter marks: \"))\n",
    "\n",
    "if marks >= 80:\n",
    "    print(\"Grade: A\")\n",
    "elif 80 > marks >= 60:\n",
    "    print(\"Grade: B\")\n",
    "elif 60 > marks >= 50:\n",
    "    print(\"Grade: C\")\n",
    "elif 50 > marks >= 45:\n",
    "    print(\"Grade: D\")\n",
    "elif 45 > marks >= 25:\n",
    "    print(\"Grade: E\")\n",
    "elif 25 > marks:\n",
    "    print(\"Grade: F\")"
   ]
  },
  {
   "cell_type": "markdown",
   "metadata": {},
   "source": [
    "#### 13) Take input of age of 3 people by user and determine oldest and youngest among them."
   ]
  },
  {
   "cell_type": "code",
   "execution_count": 46,
   "metadata": {},
   "outputs": [
    {
     "name": "stdout",
     "output_type": "stream",
     "text": [
      "Enter age of person 1: 1\n",
      "Enter age of person 2: 2\n",
      "Enter age of person 3: 3\n",
      "The oldest person is 3 years old.\n",
      "The youngest person is 1 years old.\n"
     ]
    }
   ],
   "source": [
    "age1 = int(input(\"Enter age of person 1: \"))\n",
    "age2 = int(input(\"Enter age of person 2: \"))\n",
    "age3 = int(input(\"Enter age of person 3: \"))\n",
    "\n",
    "oldest = max(age1, age2, age3)\n",
    "youngest = min(age1, age2, age3)\n",
    "\n",
    "print(f\"The oldest person is {oldest} years old.\")\n",
    "print(f\"The youngest person is {youngest} years old.\")\n"
   ]
  },
  {
   "cell_type": "markdown",
   "metadata": {},
   "source": [
    "#### 14)A student will not be allowed to sit in exam if his/her attendence is less than 75%.\n",
    "#### Take following input from user\n",
    "#### Number of classes held\n",
    "#### Number of classes attended.\n",
    "#### And print percentage of class attended\n",
    "#### Is student is allowed to sit in exam or not."
   ]
  },
  {
   "cell_type": "code",
   "execution_count": null,
   "metadata": {},
   "outputs": [],
   "source": []
  }
 ],
 "metadata": {
  "kernelspec": {
   "display_name": "Python 3",
   "language": "python",
   "name": "python3"
  },
  "language_info": {
   "codemirror_mode": {
    "name": "ipython",
    "version": 3
   },
   "file_extension": ".py",
   "mimetype": "text/x-python",
   "name": "python",
   "nbconvert_exporter": "python",
   "pygments_lexer": "ipython3",
   "version": "3.7.3"
  }
 },
 "nbformat": 4,
 "nbformat_minor": 2
}
